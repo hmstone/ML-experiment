{
 "cells": [
  {
   "cell_type": "code",
   "execution_count": 33,
   "metadata": {},
   "outputs": [],
   "source": [
    "import numpy as np\n",
    "import matplotlib.pyplot as plt\n",
    "\n",
    "x_data=[338., 333., 328., 207., 226., 25., 179., 60., 208., 606.]\n",
    "y_data=[640., 633., 619., 393., 428., 27., 193., 66., 226., 1591.]\n",
    "#ydata=b+w*xdata\n",
    "#338.代表浮点数\n",
    "\n",
    "x=np.arange(-200,-100,1) #b\n",
    "y=np.arange(-5,5,0.1) #w\n",
    "z=np.zeros((len(x),len(y)))#初始化为0，矩阵形状大小为len(x)*len(y)\n",
    "X,Y=np.meshgrid(x,y)#生成网格坐标\n",
    "\n",
    "#计算每对（b,w）的函数模型的平均误差\n",
    "for i in range(len(x)):\n",
    "    for j in range(len(y)):\n",
    "        b=x[i]\n",
    "        w=y[j]\n",
    "        z[j][i]=0\n",
    "        for n in range(len(x_data)):\n",
    "            z[j][i]=z[j][i]+(y_data[n]-b-w*x_data[n])**2\n",
    "        z[j][i]=z[j][i]/len(x_data)"
   ]
  },
  {
   "cell_type": "code",
   "execution_count": 34,
   "metadata": {},
   "outputs": [
    {
     "data": {
      "image/png": "[encoded data removed]",
      "text/plain": [
       "<Figure size 432x288 with 1 Axes>"
      ]
     },
     "metadata": {
      "needs_background": "light"
     },
     "output_type": "display_data"
    }
   ],
   "source": [
    "#初始化b,w,lr从该模型开始\n",
    "b=-120\n",
    "w=-4\n",
    "lr=1\n",
    "iteration=100000\n",
    "b_history=[b]\n",
    "w_history=[w]\n",
    "\n",
    "lr_b=0\n",
    "lr_w=0\n",
    "#记录每次梯度下降后选择的b,w便于绘图\n",
    "for i in range(iteration):\n",
    "    b_grad=0.0\n",
    "    w_grad=0.0\n",
    "    for n in range(len(x_data)):\n",
    "        b_grad=b_grad+2.0*(b+w*x_data[n]-y_data[n])\n",
    "        w_grad=w_grad+2.0*(b+w*x_data[n]-y_data[n])*x_data[n]\n",
    "    #运用adagrad算法进行梯度下降\n",
    "    lr_b=lr_b+b_grad**2\n",
    "    lr_w=lr_w+w_grad**2\n",
    "    #更新参数b,w\n",
    "    b=b-lr/np.sqrt(lr_b)*b_grad\n",
    "    w=w-lr/np.sqrt(lr_w)*w_grad\n",
    "    \n",
    "    b_history.append(b)\n",
    "    w_history.append(w)\n",
    "\n",
    "#绘图\n",
    "plt.contourf(x,y,z,50,alpha=0.5,cmap=plt.get_cmap('jet'))#划分成50种，透明度为50%\n",
    "plt.plot([-188.4],[2.67],'X',ms=15,markeredgewidth=3,color='pink')\n",
    "plt.plot(b_history,w_history,'o-',ms=3,lw=1.5,color='black')\n",
    "plt.xlim(-200,-100)\n",
    "plt.ylim(-5,5)\n",
    "plt.title('Gradient descent',fontsize=32)\n",
    "plt.xlabel(r'b',fontsize=16)\n",
    "plt.ylabel(r'w',fontsize=16)\n",
    "plt.show()\n",
    "\n",
    "\n",
    "    "
   ]
  },
  {
   "cell_type": "code",
   "execution_count": null,
   "metadata": {},
   "outputs": [],
   "source": []
  }
 ],
 "metadata": {
  "kernelspec": {
   "display_name": "Python 3",
   "language": "python",
   "name": "python3"
  },
  "language_info": {
   "codemirror_mode": {
    "name": "ipython",
    "version": 3
   },
   "file_extension": ".py",
   "mimetype": "text/x-python",
   "name": "python",
   "nbconvert_exporter": "python",
   "pygments_lexer": "ipython3",
   "version": "3.7.3"
  }
 },
 "nbformat": 4,
 "nbformat_minor": 2
}
